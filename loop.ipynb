{
 "metadata": {
  "language_info": {
   "codemirror_mode": {
    "name": "ipython",
    "version": 3
   },
   "file_extension": ".py",
   "mimetype": "text/x-python",
   "name": "python",
   "nbconvert_exporter": "python",
   "pygments_lexer": "ipython3",
   "version": "3.9.1-final"
  },
  "orig_nbformat": 2,
  "kernelspec": {
   "name": "python3",
   "display_name": "Python 3.9.1 64-bit",
   "metadata": {
    "interpreter": {
     "hash": "59efffcf92d7cb9b4a8ec867a4e1c70f364327a925f4799902fa694e4ff3346c"
    }
   }
  }
 },
 "nbformat": 4,
 "nbformat_minor": 2,
 "cells": [
  {
   "source": [
    "## for loop"
   ],
   "cell_type": "markdown",
   "metadata": {}
  },
  {
   "cell_type": "code",
   "execution_count": null,
   "metadata": {},
   "outputs": [],
   "source": [
    "name=\"william\""
   ]
  },
  {
   "cell_type": "code",
   "execution_count": null,
   "metadata": {},
   "outputs": [],
   "source": [
    "len(name)"
   ]
  },
  {
   "cell_type": "code",
   "execution_count": null,
   "metadata": {
    "tags": []
   },
   "outputs": [],
   "source": [
    "for i in name:\n",
    "    print(i)"
   ]
  },
  {
   "cell_type": "code",
   "execution_count": null,
   "metadata": {},
   "outputs": [],
   "source": [
    "x=[1,12,15,124,15,24,256,236,254]\n",
    "for val in x:\n",
    "    print(val)\n",
    "    print(val ** 2)"
   ]
  },
  {
   "cell_type": "code",
   "execution_count": null,
   "metadata": {},
   "outputs": [],
   "source": [
    "animals=['cat','bat','lion','mouse','eagle']\n",
    "for animal in animals:\n",
    "    print(f'do you like {animal}?')"
   ]
  },
  {
   "source": [
    "## table of 13"
   ],
   "cell_type": "markdown",
   "metadata": {}
  },
  {
   "cell_type": "code",
   "execution_count": null,
   "metadata": {},
   "outputs": [],
   "source": [
    "for i in range(11):\n",
    "    print(i * 13)"
   ]
  },
  {
   "cell_type": "code",
   "execution_count": null,
   "metadata": {},
   "outputs": [],
   "source": [
    "for i in range(11):\n",
    "    print(f\"13 x {i}={i* 13}\")"
   ]
  },
  {
   "source": [
    "- 'range(stopval)' => 0----> stopval-1\n",
    "- 'range(startval ,stopval)' => startval----> stopval-1\n",
    "- 'range(stopval, stopval,gap)' => 0----> stopval-1, with a diff of gap"
   ],
   "cell_type": "markdown",
   "metadata": {}
  },
  {
   "cell_type": "code",
   "execution_count": null,
   "metadata": {},
   "outputs": [],
   "source": [
    "for i in range (11,21):\n",
    "    print(i)"
   ]
  },
  {
   "cell_type": "code",
   "execution_count": null,
   "metadata": {},
   "outputs": [],
   "source": [
    "for i in range(11 ,21 , 3):\n",
    "    if i == 12:\n",
    "        print(\"12 is found\")\n",
    "        break\n",
    "    print(i)\n",
    "else:\n",
    "        print(\"12 not found\")"
   ]
  },
  {
   "cell_type": "code",
   "execution_count": null,
   "metadata": {},
   "outputs": [],
   "source": [
    "for i in range(10,0,-1):\n",
    "    print(i)"
   ]
  },
  {
   "cell_type": "code",
   "execution_count": null,
   "metadata": {},
   "outputs": [],
   "source": [
    "for i in range(10,0,-1):\n",
    "    print('😎' * i)"
   ]
  },
  {
   "cell_type": "code",
   "execution_count": null,
   "metadata": {},
   "outputs": [],
   "source": [
    "\"hi\"*3"
   ]
  },
  {
   "cell_type": "code",
   "execution_count": null,
   "metadata": {},
   "outputs": [],
   "source": [
    "for i in range(10):\n",
    "    print('😎' * i)"
   ]
  },
  {
   "cell_type": "code",
   "execution_count": null,
   "metadata": {},
   "outputs": [],
   "source": [
    "for i in range(-30,30,2):\n",
    "    print('😎' * abs(i))"
   ]
  },
  {
   "cell_type": "code",
   "execution_count": null,
   "metadata": {},
   "outputs": [],
   "source": [
    "for i in range(-10,12,2):\n",
    "    print('😎'*abs(i))"
   ]
  },
  {
   "source": [
    "## break and continue"
   ],
   "cell_type": "markdown",
   "metadata": {}
  },
  {
   "cell_type": "code",
   "execution_count": null,
   "metadata": {},
   "outputs": [],
   "source": [
    "for i in range(3):\n",
    "    val = int(input(\"enter a number\"))\n",
    "    if val > 50:\n",
    "        print(val)\n",
    "    else:\n",
    "        break\n",
    "print(\"the end \")"
   ]
  },
  {
   "cell_type": "code",
   "execution_count": null,
   "metadata": {},
   "outputs": [],
   "source": [
    "for i in range(5):\n",
    "    val= int(input(\"enter a number\"))\n",
    "    if val>40:\n",
    "        print(val)\n",
    "    else:\n",
    "        break\n",
    "print(\"the end\")"
   ]
  },
  {
   "cell_type": "code",
   "execution_count": null,
   "metadata": {},
   "outputs": [],
   "source": [
    "sum_of_even = 0\n",
    "for i in range (10):\n",
    "    num= int(input(\"enter any number: \"))\n",
    "    if num % 2 !=0:\n",
    "        print(\"odds are not allowed\")\n",
    "        break\n",
    "    sum_of_even += num\n",
    "\n",
    "print(\"total values of even --> \", sum_of_even)"
   ]
  },
  {
   "cell_type": "code",
   "execution_count": null,
   "metadata": {},
   "outputs": [],
   "source": [
    "sum_of_odd = 0\n",
    "for i in range(10):\n",
    "    num=int(input(\" enter any number\"))\n",
    "    if num % 2 !=1:\n",
    "        print(\"even are not allowed\")\n",
    "        break\n",
    "    sum_of_odd += num\n",
    "print(\"total values of all odd--->\", sum_of_odd)"
   ]
  },
  {
   "source": [
    "## continue"
   ],
   "cell_type": "markdown",
   "metadata": {}
  },
  {
   "cell_type": "code",
   "execution_count": null,
   "metadata": {},
   "outputs": [],
   "source": [
    "data=[\"satyam\",\"\",\"sarvendra\",\"\",\"sachin\",\"\",\"cheema\"]\n"
   ]
  },
  {
   "cell_type": "code",
   "execution_count": null,
   "metadata": {},
   "outputs": [],
   "source": [
    "for name in data:\n",
    "    print(name)"
   ]
  },
  {
   "cell_type": "code",
   "execution_count": null,
   "metadata": {},
   "outputs": [],
   "source": [
    "for name in data:\n",
    "    if name==\"\":\n",
    "        continue\n",
    "    print(name)"
   ]
  },
  {
   "cell_type": "code",
   "execution_count": null,
   "metadata": {},
   "outputs": [],
   "source": [
    "4%2"
   ]
  },
  {
   "cell_type": "code",
   "execution_count": null,
   "metadata": {},
   "outputs": [],
   "source": [
    "4!=2"
   ]
  },
  {
   "source": [
    "# while loop"
   ],
   "cell_type": "markdown",
   "metadata": {}
  },
  {
   "source": [
    "# ''''''\n",
    "  while condition:\n",
    "      statement 1\n",
    "      statement 2\n",
    "      .\n",
    "      .\n",
    "      satement n"
   ],
   "cell_type": "markdown",
   "metadata": {}
  },
  {
   "cell_type": "code",
   "execution_count": null,
   "metadata": {},
   "outputs": [],
   "source": [
    "a = 1\n",
    "while a<10:\n",
    "    print(\"a is\",a)\n",
    "    a += 2"
   ]
  },
  {
   "cell_type": "code",
   "execution_count": null,
   "metadata": {},
   "outputs": [],
   "source": [
    "while True:\n",
    "    print(\"la\")"
   ]
  },
  {
   "cell_type": "code",
   "execution_count": null,
   "metadata": {},
   "outputs": [],
   "source": [
    "while True:\n",
    "    sentence = input(\"enter a sentence\")\n",
    "    if len(sentence) ==0:\n",
    "        print(\" stopping code \")\n",
    "        break\n",
    "    print(f' {sentence} is {len(sentence)} long')"
   ]
  },
  {
   "source": [
    "# the boring calci"
   ],
   "cell_type": "markdown",
   "metadata": {}
  },
  {
   "cell_type": "code",
   "execution_count": null,
   "metadata": {},
   "outputs": [],
   "source": [
    "while True:\n",
    "    print(\"-\" *20)\n",
    "    print(\"the boring calci \\nadd\\nsub\\ndiv\\nmul\")\n",
    "    ch = input(\">>>\")\n",
    "    if ch == \"add\":\n",
    "        x=int(input(\"enter any number\"))\n",
    "        y=int(input(\"enter any number\"))\n",
    "        print(f'{x}+{y}= {x+y} is the sum of numbers')\n",
    "    elif ch == \"sub\":\n",
    "        x=int(input(\"enter any number\"))\n",
    "        y=int(input(\"enter any number\"))\n",
    "        print(f'{x}-{y}={x-y} is the difference of number')\n",
    "    elif ch == \"mul\":\n",
    "        x=int(input(\"enter any number\"))\n",
    "        y=int(input(\"enter any number\"))\n",
    "        print(f'{x}*{y}={x*y} is a product of number')\n",
    "    elif ch == \"div\":\n",
    "        print(\"GAME OVER\")\n",
    "        break\n",
    "\n"
   ]
  },
  {
   "cell_type": "code",
   "execution_count": null,
   "metadata": {},
   "outputs": [],
   "source": []
  }
 ]
}