{
 "metadata": {
  "language_info": {
   "codemirror_mode": {
    "name": "ipython",
    "version": 3
   },
   "file_extension": ".py",
   "mimetype": "text/x-python",
   "name": "python",
   "nbconvert_exporter": "python",
   "pygments_lexer": "ipython3",
   "version": "3.9.1-final"
  },
  "orig_nbformat": 2,
  "kernelspec": {
   "name": "python3",
   "display_name": "Python 3.9.1 64-bit",
   "metadata": {
    "interpreter": {
     "hash": "59efffcf92d7cb9b4a8ec867a4e1c70f364327a925f4799902fa694e4ff3346c"
    }
   }
  }
 },
 "nbformat": 4,
 "nbformat_minor": 2,
 "cells": [
  {
   "cell_type": "code",
   "execution_count": 5,
   "metadata": {},
   "outputs": [],
   "source": [
    "a=input('enter a number')"
   ]
  },
  {
   "cell_type": "code",
   "execution_count": 6,
   "metadata": {},
   "outputs": [],
   "source": [
    "a=int(a)"
   ]
  },
  {
   "cell_type": "code",
   "execution_count": 7,
   "metadata": {},
   "outputs": [
    {
     "output_type": "stream",
     "name": "stdout",
     "text": [
      "it is a even number\n"
     ]
    }
   ],
   "source": [
    "if a%2 ==0:\n",
    "    print('it is a even number')"
   ]
  },
  {
   "cell_type": "code",
   "execution_count": 8,
   "metadata": {},
   "outputs": [
    {
     "output_type": "stream",
     "name": "stdout",
     "text": [
      "hakuna matata\n"
     ]
    }
   ],
   "source": [
    "if a % 2 ==0:\n",
    "    print(\"hakuna matata\")"
   ]
  },
  {
   "cell_type": "code",
   "execution_count": 9,
   "metadata": {},
   "outputs": [
    {
     "output_type": "stream",
     "name": "stdout",
     "text": [
      "it's great\n"
     ]
    }
   ],
   "source": [
    "name=\"Vishwas\"\n",
    "if name==\"Vishwas\":\n",
    "    print(\"it's great\")"
   ]
  },
  {
   "cell_type": "code",
   "execution_count": 13,
   "metadata": {},
   "outputs": [
    {
     "output_type": "stream",
     "name": "stdout",
     "text": [
      "i have to attend my class\n"
     ]
    }
   ],
   "source": [
    "day = input(\"enter the day\")\n",
    "if day ==\"Monday\":\n",
    "    print(\"i have to attend my class\")\n",
    "if day ==\"wednesday\":\n",
    "    print(\"i am free to have a pot\")\n",
    "if day==\"thursday\":\n",
    "    print(\"i can't have chicken today\")\n"
   ]
  },
  {
   "source": [
    "### multiple condition in if"
   ],
   "cell_type": "markdown",
   "metadata": {}
  },
  {
   "source": [
    "#### agar user ne 750 se bda amount diya to 500 minus krenge and then agr values jo bachi vo 250 kam h to 300 add krenge"
   ],
   "cell_type": "markdown",
   "metadata": {}
  },
  {
   "cell_type": "code",
   "execution_count": 19,
   "metadata": {},
   "outputs": [
    {
     "output_type": "stream",
     "name": "stdout",
     "text": [
      "money available 750\n"
     ]
    }
   ],
   "source": [
    "# nested if \n",
    "value = int(input(\"enter any number\"))\n",
    "if value > 1000:\n",
    "    value= value-500\n",
    "    if value<750:\n",
    "        value= value+300\n",
    "print(\"money available\",value)"
   ]
  },
  {
   "source": [
    "## logical operator"
   ],
   "cell_type": "markdown",
   "metadata": {}
  },
  {
   "cell_type": "code",
   "execution_count": 22,
   "metadata": {},
   "outputs": [
    {
     "output_type": "stream",
     "name": "stdout",
     "text": [
      "your name is dodd\n"
     ]
    }
   ],
   "source": [
    "name= input(\"Enter your name -> \")\n",
    "if name.startswith('a') or name.startswith('b') or name.startswith(\"e\"):\n",
    "    print(\"your name is dodd\")"
   ]
  },
  {
   "cell_type": "code",
   "execution_count": 25,
   "metadata": {},
   "outputs": [
    {
     "output_type": "stream",
     "name": "stdout",
     "text": [
      "welcome to ur web page\n"
     ]
    }
   ],
   "source": [
    "Username = input(\"USERNAME\")\n",
    "Password = input(\"PASSWORD\")\n",
    "if Username== \"satyam\" and Password==\"its420\":\n",
    "    print(\"welcome to ur web page\")"
   ]
  },
  {
   "source": [
    "## else condition"
   ],
   "cell_type": "markdown",
   "metadata": {}
  },
  {
   "cell_type": "code",
   "execution_count": 27,
   "metadata": {},
   "outputs": [
    {
     "output_type": "stream",
     "name": "stdout",
     "text": [
      "it's false\n"
     ]
    }
   ],
   "source": [
    "value= int(input(\"enter any number\"))\n",
    "if value<=30:\n",
    "    print(\"it's true\")\n",
    "else:\n",
    "    print(\"it's false\")"
   ]
  },
  {
   "cell_type": "code",
   "execution_count": 28,
   "metadata": {},
   "outputs": [
    {
     "output_type": "stream",
     "name": "stdout",
     "text": [
      "you r not worthy\n"
     ]
    }
   ],
   "source": [
    "Username = input(\"USERNAME\")\n",
    "Password = input(\"PASSWORD\")\n",
    "if Username== \"satyam\" and Password==\"its420\":\n",
    "    print(\"welcome to ur web page\")\n",
    "else:\n",
    "    print(\"you r not worthy\")\n"
   ]
  },
  {
   "source": [
    "### use of \"in\" in -if confition"
   ],
   "cell_type": "markdown",
   "metadata": {}
  },
  {
   "cell_type": "code",
   "execution_count": 29,
   "metadata": {},
   "outputs": [
    {
     "output_type": "stream",
     "name": "stdout",
     "text": [
      "the gods are old\n"
     ]
    }
   ],
   "source": [
    "sentence=\"the old gods were unhappy.so they went on holidays\"\n",
    "if \"old\" in sentence:\n",
    "    print(\"the gods are old\")\n",
    "else:\n",
    "    print(\"these gods are new\")\n",
    "    "
   ]
  },
  {
   "cell_type": "code",
   "execution_count": 30,
   "metadata": {},
   "outputs": [
    {
     "output_type": "stream",
     "name": "stdout",
     "text": [
      "coding is easy\n"
     ]
    }
   ],
   "source": [
    "mssg=\"this is my nesw style of coding\"\n",
    "if \"cod\" in mssg:\n",
    "    print(\"coding is easy\")\n",
    "else:\n",
    "    print(\"no it's boring\")"
   ]
  },
  {
   "cell_type": "code",
   "execution_count": 37,
   "metadata": {},
   "outputs": [
    {
     "output_type": "stream",
     "name": "stdout",
     "text": [
      "nothing true\n"
     ]
    }
   ],
   "source": [
    "a=int(input(\"enter a number\"))\n",
    "b=int(input(\"enter a number\"))\n",
    "if a is 40:\n",
    "    print(\"it is true\")\n",
    "elif b is 20:\n",
    "    print(\"it is true\")\n",
    "else:\n",
    "    print(\"nothing true\")"
   ]
  },
  {
   "source": [
    "## Loops in Python"
   ],
   "cell_type": "markdown",
   "metadata": {}
  },
  {
   "cell_type": "code",
   "execution_count": 3,
   "metadata": {},
   "outputs": [
    {
     "output_type": "stream",
     "name": "stdout",
     "text": [
      "0\n1\n2\n3\n4\n5\n6\n7\n8\n9\n"
     ]
    }
   ],
   "source": [
    "for i in range(10): \n",
    "    print(i)"
   ]
  },
  {
   "cell_type": "code",
   "execution_count": 5,
   "metadata": {},
   "outputs": [
    {
     "output_type": "stream",
     "name": "stdout",
     "text": [
      "100\n120\n130\n450\n12222\n1578201369541253\n"
     ]
    }
   ],
   "source": [
    "numbers= (100,120,130,450,12222,1578201369541253)\n",
    "for num in num(bers:\n",
    "    print(num)"
   ]
  },
  {
   "cell_type": "code",
   "execution_count": 6,
   "metadata": {},
   "outputs": [
    {
     "output_type": "stream",
     "name": "stdout",
     "text": [
      "L\nO\nO\nP\n"
     ]
    }
   ],
   "source": [
    "for i in \"LOOP\":\n",
    "    print(i)"
   ]
  },
  {
   "cell_type": "code",
   "execution_count": 10,
   "metadata": {},
   "outputs": [
    {
     "output_type": "stream",
     "name": "stdout",
     "text": [
      "0\n1\n2\n3\nfound four\n"
     ]
    }
   ],
   "source": [
    "for i in range(20):\n",
    "    if i==4:\n",
    "        print(\"found four\")\n",
    "        break\n",
    "    print(i)\n",
    "else:\n",
    "    print(\"4 not found\")"
   ]
  },
  {
   "cell_type": "code",
   "execution_count": 13,
   "metadata": {},
   "outputs": [
    {
     "output_type": "stream",
     "name": "stdout",
     "text": [
      "0\n1\n2\n3\n4\n5\n6\n7\n8\n9\n11 not found \n"
     ]
    }
   ],
   "source": [
    "for i in range(10):\n",
    "    if i==11:\n",
    "        print(\"found 11\")\n",
    "        break\n",
    "    print(i)\n",
    "else:\n",
    "    print(\"11 not found \")"
   ]
  },
  {
   "cell_type": "code",
   "execution_count": 14,
   "metadata": {},
   "outputs": [
    {
     "output_type": "stream",
     "name": "stdout",
     "text": [
      "1\n3\n5\n7\n9\n11\n13\n15\n17\n19\n4 is not found\n"
     ]
    }
   ],
   "source": [
    "for i in range(1, 20, 2):\n",
    "    if i==4:\n",
    "        print(\"4 is found\")\n",
    "        break\n",
    "    print(i)\n",
    "else:\n",
    "    print(\"4 is not found\")"
   ]
  },
  {
   "cell_type": "code",
   "execution_count": 15,
   "metadata": {},
   "outputs": [
    {
     "output_type": "stream",
     "name": "stdout",
     "text": [
      "1\n4\n7\n10\n13\n16\n19\n3 is not found\n"
     ]
    }
   ],
   "source": [
    "for i in range(1 ,20, 3):\n",
    "    if i==3:\n",
    "        print(\" 3 is found\")\n",
    "        break\n",
    "    print(i)\n",
    "else:\n",
    "    print(\"3 is not found\")"
   ]
  },
  {
   "cell_type": "code",
   "execution_count": 16,
   "metadata": {},
   "outputs": [
    {
     "output_type": "stream",
     "name": "stdout",
     "text": [
      "11\n16\n21\n26\n31\n36\n41\n46\n50 is not found\n"
     ]
    }
   ],
   "source": [
    "for i in range(11 , 50, 5):\n",
    "    if i==50:\n",
    "        print(\" 50 is found\")\n",
    "        break\n",
    "    print(i)\n",
    "else:\n",
    "    print(\"50 is not found\")"
   ]
  },
  {
   "cell_type": "code",
   "execution_count": null,
   "metadata": {},
   "outputs": [],
   "source": []
  },
  {
   "cell_type": "code",
   "execution_count": null,
   "metadata": {},
   "outputs": [],
   "source": [
    "num=5\n",
    "for num>0:\n",
    "    print(\"hey\")"
   ]
  }
 ]
}