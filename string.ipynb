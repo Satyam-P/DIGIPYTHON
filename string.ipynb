{
 "metadata": {
  "language_info": {
   "codemirror_mode": {
    "name": "ipython",
    "version": 3
   },
   "file_extension": ".py",
   "mimetype": "text/x-python",
   "name": "python",
   "nbconvert_exporter": "python",
   "pygments_lexer": "ipython3",
   "version": "3.9.1"
  },
  "orig_nbformat": 2,
  "kernelspec": {
   "name": "python3",
   "display_name": "Python 3.9.1 64-bit",
   "metadata": {
    "interpreter": {
     "hash": "b8db366ce1748e5da6a4cffba1e5684a1dcc31bd9e394accb67fe3293ab73bf2"
    }
   }
  }
 },
 "nbformat": 4,
 "nbformat_minor": 2,
 "cells": [
  {
   "source": [
    "# string functions"
   ],
   "cell_type": "markdown",
   "metadata": {}
  },
  {
   "cell_type": "code",
   "execution_count": null,
   "metadata": {},
   "outputs": [],
   "source": [
    "sentence= \"i love the way she misbehave, my sweet ganja babe\""
   ]
  },
  {
   "cell_type": "code",
   "execution_count": null,
   "metadata": {},
   "outputs": [],
   "source": [
    "sentence.upper()"
   ]
  },
  {
   "cell_type": "code",
   "execution_count": null,
   "metadata": {},
   "outputs": [],
   "source": [
    "sentence.lower()"
   ]
  },
  {
   "cell_type": "code",
   "execution_count": null,
   "metadata": {},
   "outputs": [],
   "source": [
    "sentence.capitalize()"
   ]
  },
  {
   "cell_type": "code",
   "execution_count": null,
   "metadata": {},
   "outputs": [],
   "source": [
    "sentence.title()"
   ]
  },
  {
   "cell_type": "code",
   "execution_count": null,
   "metadata": {},
   "outputs": [],
   "source": [
    "sentence=sentence.title()"
   ]
  },
  {
   "source": [
    "##\n",
    "- casefold and lower functions are same"
   ],
   "cell_type": "markdown",
   "metadata": {}
  },
  {
   "cell_type": "code",
   "execution_count": null,
   "metadata": {},
   "outputs": [],
   "source": [
    "city = \"Vijaywada\"\n"
   ]
  },
  {
   "cell_type": "code",
   "execution_count": null,
   "metadata": {},
   "outputs": [],
   "source": [
    "len(city)"
   ]
  },
  {
   "cell_type": "code",
   "execution_count": null,
   "metadata": {},
   "outputs": [],
   "source": [
    "city.rjust(50)"
   ]
  },
  {
   "cell_type": "code",
   "execution_count": null,
   "metadata": {},
   "outputs": [],
   "source": [
    "city.ljust(50)"
   ]
  },
  {
   "cell_type": "code",
   "execution_count": null,
   "metadata": {},
   "outputs": [],
   "source": [
    "city.center(15)"
   ]
  },
  {
   "cell_type": "code",
   "execution_count": null,
   "metadata": {},
   "outputs": [],
   "source": [
    "for i in range(1,15,2):\n",
    "    print(\"0\"* i)"
   ]
  },
  {
   "cell_type": "code",
   "execution_count": null,
   "metadata": {},
   "outputs": [],
   "source": [
    "for i in range(1,15,2):\n",
    "    print((\"0\"*i).center(15))"
   ]
  },
  {
   "cell_type": "code",
   "execution_count": null,
   "metadata": {},
   "outputs": [],
   "source": [
    "for i in range(1,15,2):\n",
    "    print((\"0\"*i).rjust(15))"
   ]
  },
  {
   "cell_type": "code",
   "execution_count": null,
   "metadata": {},
   "outputs": [],
   "source": [
    "value= input(\"Enter any number\")\n",
    "print(\"value contains only alphabets\", value.isalpha())\n",
    "print(\"value contains only alphabets and numbers\", value.isalnum())\n",
    "print(\"value contains only numbers\", value.isnumeric())\n",
    "print(\"value contains only spaces\", value.isspace())\n",
    "print(\"value contains only uppercase cha.\", value.isupper())\n",
    "print(\"value contains only lowercase cha.\", value.islower())"
   ]
  },
  {
   "cell_type": "code",
   "execution_count": null,
   "metadata": {},
   "outputs": [],
   "source": [
    "x = input(\"enter any number\")\n",
    "if x.isnumeric():\n",
    "    print(\"good boy\")\n",
    "    x= int(x)\n",
    "else:\n",
    "    print(\"please read the prompt\")"
   ]
  },
  {
   "cell_type": "code",
   "execution_count": 37,
   "metadata": {},
   "outputs": [
    {
     "output_type": "stream",
     "name": "stdout",
     "text": [
      "heyheyheyehyehey bad boy\n"
     ]
    }
   ],
   "source": [
    "x = input(\"enter any upper case sente.\")\n",
    "if x.isupper():\n",
    "    print(\"heyehyetyehyehey good boy\")\n",
    "else:\n",
    "    print(\"heyheyheyehyehey bad boy\")\n"
   ]
  },
  {
   "cell_type": "code",
   "execution_count": 38,
   "metadata": {},
   "outputs": [],
   "source": [
    "quote =\"Life before death, Hope before despair , Journey before destination\""
   ]
  },
  {
   "cell_type": "code",
   "execution_count": 40,
   "metadata": {},
   "outputs": [
    {
     "output_type": "execute_result",
     "data": {
      "text/plain": [
       "['Life',\n",
       " 'before',\n",
       " 'death,',\n",
       " 'Hope',\n",
       " 'before',\n",
       " 'despair',\n",
       " ',',\n",
       " 'Journey',\n",
       " 'before',\n",
       " 'destination']"
      ]
     },
     "metadata": {},
     "execution_count": 40
    }
   ],
   "source": [
    "quote.split()"
   ]
  },
  {
   "cell_type": "code",
   "execution_count": 41,
   "metadata": {},
   "outputs": [],
   "source": [
    "words = quote.split()"
   ]
  },
  {
   "cell_type": "code",
   "execution_count": 42,
   "metadata": {},
   "outputs": [
    {
     "output_type": "execute_result",
     "data": {
      "text/plain": [
       "10"
      ]
     },
     "metadata": {},
     "execution_count": 42
    }
   ],
   "source": [
    "len(words)"
   ]
  },
  {
   "cell_type": "code",
   "execution_count": 43,
   "metadata": {},
   "outputs": [
    {
     "output_type": "execute_result",
     "data": {
      "text/plain": [
       "['Life before death', ' Hope before despair ', ' Journey before destination']"
      ]
     },
     "metadata": {},
     "execution_count": 43
    }
   ],
   "source": [
    "quote.split(\",\")"
   ]
  },
  {
   "cell_type": "code",
   "execution_count": 44,
   "metadata": {},
   "outputs": [
    {
     "output_type": "execute_result",
     "data": {
      "text/plain": [
       "['Life ', ' death, Hope ', ' despair , Journey ', ' destination']"
      ]
     },
     "metadata": {},
     "execution_count": 44
    }
   ],
   "source": [
    "quote.split(\"before\")"
   ]
  },
  {
   "cell_type": "code",
   "execution_count": 16,
   "metadata": {},
   "outputs": [],
   "source": [
    "wiki = '''\n",
    "n November 2009, a researcher at the Rey Juan Carlos University in Madrid found that the English Wikipedia had lost 49,000 editors during the first three months of 2009; in comparison, the project lost only 4,900 editors during the same period in 2008.[38][39] The Wall Street Journal cited the array of rules applied to editing and disputes related to such content among the reasons for this trend.[40] Wales disputed these claims in 2009, denying the decline and questioning the methodology of the study.[41] Two years later, in 2011, Wales acknowledged the presence of a slight decline, noting a decrease from \"a little more than 36,000 writers\" in June 2010 to 35,800 in June 2011. In the same interview, Wales also claimed the number of editors was \"stable and sustainable\".[42] A 2013 article titled \"The Decline of Wikipedia\" in MIT Technology Review questioned this claim. The article revealed that since 2007, Wikipedia had lost a third of its volunteer editors, and those still there have focused increasingly on minutiae.[43] In July 2012, The Atlantic reported that the number of administrators is also in decline.[44] In the November 25, 2013, issue of New York magazine, Katherine Ward stated \"Wikipedia, the sixth-most-used website, is facing an internal crisis\".[45]\n",
    "'''"
   ]
  },
  {
   "cell_type": "code",
   "execution_count": 46,
   "metadata": {},
   "outputs": [
    {
     "output_type": "stream",
     "name": "stdout",
     "text": [
      "n 1\nNovember 8\n2009, 5\na 1\nresearcher 10\nat 2\nthe 3\nRey 3\nJuan 4\nCarlos 6\nUniversity 10\nin 2\nMadrid 6\nfound 5\nthat 4\nthe 3\nEnglish 7\nWikipedia 9\nhad 3\nlost 4\n49,000 6\neditors 7\nduring 6\nthe 3\nfirst 5\nthree 5\nmonths 6\nof 2\n2009; 5\nin 2\ncomparison, 11\nthe 3\nproject 7\nlost 4\nonly 4\n4,900 5\neditors 7\nduring 6\nthe 3\nsame 4\nperiod 6\nin 2\n2008.[38][39] 13\nThe 3\nWall 4\nStreet 6\nJournal 7\ncited 5\nthe 3\narray 5\nof 2\nrules 5\napplied 7\nto 2\nediting 7\nand 3\ndisputes 8\nrelated 7\nto 2\nsuch 4\ncontent 7\namong 5\nthe 3\nreasons 7\nfor 3\nthis 4\ntrend.[40] 10\nWales 5\ndisputed 8\nthese 5\nclaims 6\nin 2\n2009, 5\ndenying 7\nthe 3\ndecline 7\nand 3\nquestioning 11\nthe 3\nmethodology 11\nof 2\nthe 3\nstudy.[41] 10\nTwo 3\nyears 5\nlater, 6\nin 2\n2011, 5\nWales 5\nacknowledged 12\nthe 3\npresence 8\nof 2\na 1\nslight 6\ndecline, 8\nnoting 6\na 1\ndecrease 8\nfrom 4\n\"a 2\nlittle 6\nmore 4\nthan 4\n36,000 6\nwriters\" 8\nin 2\nJune 4\n2010 4\nto 2\n35,800 6\nin 2\nJune 4\n2011. 5\nIn 2\nthe 3\nsame 4\ninterview, 10\nWales 5\nalso 4\nclaimed 7\nthe 3\nnumber 6\nof 2\neditors 7\nwas 3\n\"stable 7\nand 3\nsustainable\".[42] 17\nA 1\n2013 4\narticle 7\ntitled 6\n\"The 4\nDecline 7\nof 2\nWikipedia\" 10\nin 2\nMIT 3\nTechnology 10\nReview 6\nquestioned 10\nthis 4\nclaim. 6\nThe 3\narticle 7\nrevealed 8\nthat 4\nsince 5\n2007, 5\nWikipedia 9\nhad 3\nlost 4\na 1\nthird 5\nof 2\nits 3\nvolunteer 9\neditors, 8\nand 3\nthose 5\nstill 5\nthere 5\nhave 4\nfocused 7\nincreasingly 12\non 2\nminutiae.[43] 13\nIn 2\nJuly 4\n2012, 5\nThe 3\nAtlantic 8\nreported 8\nthat 4\nthe 3\nnumber 6\nof 2\nadministrators 14\nis 2\nalso 4\nin 2\ndecline.[44] 12\nIn 2\nthe 3\nNovember 8\n25, 3\n2013, 5\nissue 5\nof 2\nNew 3\nYork 4\nmagazine, 9\nKatherine 9\nWard 4\nstated 6\n\"Wikipedia, 11\nthe 3\nsixth-most-used 15\nwebsite, 8\nis 2\nfacing 6\nan 2\ninternal 8\ncrisis\".[45] 12\n"
     ]
    }
   ],
   "source": [
    "for word in wiki.split():\n",
    "    print(word , len(word))"
   ]
  },
  {
   "cell_type": "code",
   "execution_count": 48,
   "metadata": {},
   "outputs": [
    {
     "output_type": "execute_result",
     "data": {
      "text/plain": [
       "68"
      ]
     },
     "metadata": {},
     "execution_count": 48
    }
   ],
   "source": [
    "wiki.count(\"a\")"
   ]
  },
  {
   "cell_type": "code",
   "execution_count": 50,
   "metadata": {},
   "outputs": [
    {
     "output_type": "execute_result",
     "data": {
      "text/plain": [
       "['\\nn November 2009',\n",
       " ' a researcher at the Rey Juan Carlos University in Madrid found that the English Wikipedia had lost 49',\n",
       " '000 editors during the first three months of 2009; in comparison',\n",
       " ' the project lost only 4',\n",
       " '900 editors during the same period in 2008.[38][39] The Wall Street Journal cited the array of rules applied to editing and disputes related to such content among the reasons for this trend.[40] Wales disputed these claims in 2009',\n",
       " ' denying the decline and questioning the methodology of the study.[41] Two years later',\n",
       " ' in 2011',\n",
       " ' Wales acknowledged the presence of a slight decline',\n",
       " ' noting a decrease from \"a little more than 36',\n",
       " '000 writers\" in June 2010 to 35',\n",
       " '800 in June 2011. In the same interview',\n",
       " ' Wales also claimed the number of editors was \"stable and sustainable\".[42] A 2013 article titled \"The Decline of Wikipedia\" in MIT Technology Review questioned this claim. The article revealed that since 2007',\n",
       " ' Wikipedia had lost a third of its volunteer editors',\n",
       " ' and those still there have focused increasingly on minutiae.[43] In July 2012',\n",
       " ' The Atlantic reported that the number of administrators is also in decline.[44] In the November 25',\n",
       " ' 2013',\n",
       " ' issue of New York magazine',\n",
       " ' Katherine Ward stated \"Wikipedia',\n",
       " ' the sixth-most-used website',\n",
       " ' is facing an internal crisis\".[45]\\n']"
      ]
     },
     "metadata": {},
     "execution_count": 50
    }
   ],
   "source": [
    "wiki.split(\",\")"
   ]
  },
  {
   "cell_type": "code",
   "execution_count": 51,
   "metadata": {},
   "outputs": [
    {
     "output_type": "execute_result",
     "data": {
      "text/plain": [
       "19"
      ]
     },
     "metadata": {},
     "execution_count": 51
    }
   ],
   "source": [
    "wiki.count(\",\")"
   ]
  },
  {
   "cell_type": "code",
   "execution_count": 52,
   "metadata": {},
   "outputs": [
    {
     "output_type": "execute_result",
     "data": {
      "text/plain": [
       "8"
      ]
     },
     "metadata": {},
     "execution_count": 52
    }
   ],
   "source": [
    "wiki.count(\"[\")"
   ]
  },
  {
   "cell_type": "code",
   "execution_count": 53,
   "metadata": {},
   "outputs": [
    {
     "output_type": "execute_result",
     "data": {
      "text/plain": [
       "27"
      ]
     },
     "metadata": {},
     "execution_count": 53
    }
   ],
   "source": [
    "wiki.count(\"to\") + wiki.count(\",\")"
   ]
  },
  {
   "cell_type": "code",
   "execution_count": 1,
   "metadata": {},
   "outputs": [],
   "source": [
    "a = [\"raj\",\"is\",\"a\",\"good\",\"poet\"]"
   ]
  },
  {
   "cell_type": "code",
   "execution_count": 2,
   "metadata": {},
   "outputs": [
    {
     "output_type": "execute_result",
     "data": {
      "text/plain": [
       "['raj', 'is', 'a', 'good', 'poet']"
      ]
     },
     "metadata": {},
     "execution_count": 2
    }
   ],
   "source": [
    "a"
   ]
  },
  {
   "cell_type": "code",
   "execution_count": 3,
   "metadata": {},
   "outputs": [
    {
     "output_type": "execute_result",
     "data": {
      "text/plain": [
       "'raj is a good poet'"
      ]
     },
     "metadata": {},
     "execution_count": 3
    }
   ],
   "source": [
    "\" \".join(a)"
   ]
  },
  {
   "cell_type": "code",
   "execution_count": 4,
   "metadata": {},
   "outputs": [
    {
     "output_type": "execute_result",
     "data": {
      "text/plain": [
       "'raj-is-a-good-poet'"
      ]
     },
     "metadata": {},
     "execution_count": 4
    }
   ],
   "source": [
    "\"-\".join(a)"
   ]
  },
  {
   "cell_type": "code",
   "execution_count": 5,
   "metadata": {},
   "outputs": [],
   "source": [
    "name = [(\"raj\",\"chaudhary\"),(\"raju\",\"srivastava\"),(\"vijay\",\"yadav\")]"
   ]
  },
  {
   "cell_type": "code",
   "execution_count": 6,
   "metadata": {},
   "outputs": [
    {
     "output_type": "stream",
     "name": "stdout",
     "text": [
      "('raj', 'chaudhary')\n('raju', 'srivastava')\n('vijay', 'yadav')\n"
     ]
    }
   ],
   "source": [
    "for i in name:\n",
    "    print(i)"
   ]
  },
  {
   "cell_type": "code",
   "execution_count": 7,
   "metadata": {},
   "outputs": [
    {
     "output_type": "stream",
     "name": "stdout",
     "text": [
      "raj chaudhary\nraju srivastava\nvijay yadav\n"
     ]
    }
   ],
   "source": [
    "for i in name:\n",
    "    fullname = \" \".join(i)\n",
    "    print(fullname)"
   ]
  },
  {
   "cell_type": "code",
   "execution_count": 8,
   "metadata": {},
   "outputs": [],
   "source": [
    "data = \" well done   \"  # leading n trailing"
   ]
  },
  {
   "cell_type": "code",
   "execution_count": 9,
   "metadata": {},
   "outputs": [
    {
     "output_type": "execute_result",
     "data": {
      "text/plain": [
       "13"
      ]
     },
     "metadata": {},
     "execution_count": 9
    }
   ],
   "source": [
    "len(data)"
   ]
  },
  {
   "cell_type": "code",
   "execution_count": 12,
   "metadata": {},
   "outputs": [
    {
     "output_type": "stream",
     "name": "stdout",
     "text": [
      "13\n9\n"
     ]
    }
   ],
   "source": [
    "clean_data = data.strip()\n",
    "print(len(data))\n",
    "print(len(clean_data))"
   ]
  },
  {
   "cell_type": "code",
   "execution_count": 14,
   "metadata": {},
   "outputs": [
    {
     "output_type": "execute_result",
     "data": {
      "text/plain": [
       "'dexter'"
      ]
     },
     "metadata": {},
     "execution_count": 14
    }
   ],
   "source": [
    "word = \"+++++++dexter\"\n",
    "word.strip(\"+\")"
   ]
  },
  {
   "cell_type": "code",
   "execution_count": 17,
   "metadata": {},
   "outputs": [
    {
     "output_type": "execute_result",
     "data": {
      "text/plain": [
       "'\\nn November 2009, o reseorcher ot the Rey Juon Corlos University in Modrid found thot the English Wikipedio hod lost 49,000 editors during the first three months of 2009; in comporison, the project lost only 4,900 editors during the some period in 2008.[38][39] The Woll Street Journol cited the orroy of rules opplied to editing ond disputes reloted to such content omong the reosons for this trend.[40] Woles disputed these cloims in 2009, denying the decline ond questioning the methodology of the study.[41] Two yeors loter, in 2011, Woles ocknowledged the presence of o slight decline, noting o decreose from \"o little more thon 36,000 writers\" in June 2010 to 35,800 in June 2011. In the some interview, Woles olso cloimed the number of editors wos \"stoble ond sustoinoble\".[42] A 2013 orticle titled \"The Decline of Wikipedio\" in MIT Technology Review questioned this cloim. The orticle reveoled thot since 2007, Wikipedio hod lost o third of its volunteer editors, ond those still there hove focused increosingly on minutioe.[43] In July 2012, The Atlontic reported thot the number of odministrotors is olso in decline.[44] In the November 25, 2013, issue of New York mogozine, Kotherine Word stoted \"Wikipedio, the sixth-most-used website, is focing on internol crisis\".[45]\\n'"
      ]
     },
     "metadata": {},
     "execution_count": 17
    }
   ],
   "source": [
    "wiki.replace(\"a\",\"o\")"
   ]
  },
  {
   "cell_type": "code",
   "execution_count": 18,
   "metadata": {},
   "outputs": [],
   "source": [
    "miki = wiki.replace(\"wikipedia\",\"mikipedia\")"
   ]
  },
  {
   "cell_type": "code",
   "execution_count": 20,
   "metadata": {},
   "outputs": [
    {
     "output_type": "execute_result",
     "data": {
      "text/plain": [
       "'\\nn November 2009, a researcher at the Rey Juan Carlos University in Madrid found that the English Wikipedia had lost 49,000 edithreers during the first three months on 2009; in comparison, the project lost only 4,900 edithreers during the same period in 2008.[38][39] The Wall Street Journal cited the array on rules applied three editing and disputes related three such content among the reasons for this trend.[40] Wales disputed these claims in 2009, denying the decline and questioning the methodology on the study.[41] Two years later, in 2011, Wales acknowledged the presence on a slight decline, noting a decrease from \"a little more than 36,000 writers\" in June 2010 three 35,800 in June 2011. In the same interview, Wales also claimed the number on edithreers was \"stable and sustainable\".[42] A 2013 article titled \"The Decline on Wikipedia\" in MIT Technology Review questioned this claim. The article revealed that since 2007, Wikipedia had lost a third on its volunteer edithreers, and those still there have focused increasingly on minutiae.[43] In July 2012, The Atlantic reported that the number on administrathreers is also in decline.[44] In the November 25, 2013, issue on New York magazine, Katherine Ward stated \"Wikipedia, the sixth-most-used website, is facing an internal crisis\".[45]\\n'"
      ]
     },
     "metadata": {},
     "execution_count": 20
    }
   ],
   "source": [
    "miki.replace(\"to\",\"three\").replace(\"of\",\"on\")"
   ]
  },
  {
   "cell_type": "code",
   "execution_count": null,
   "metadata": {},
   "outputs": [],
   "source": []
  }
 ]
}